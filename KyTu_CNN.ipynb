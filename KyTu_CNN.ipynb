{
  "cells": [
    {
      "cell_type": "code",
      "execution_count": null,
      "metadata": {
        "colab": {
          "base_uri": "https://localhost:8080/"
        },
        "id": "lUAV7giF8R6j",
        "outputId": "159c3850-acbb-4c1d-c496-bd24dfffd0c7"
      },
      "outputs": [
        {
          "output_type": "stream",
          "name": "stdout",
          "text": [
            "Mounted at /content/drive\n"
          ]
        }
      ],
      "source": [
        "from google.colab import drive\n",
        "drive.mount('/content/drive')"
      ]
    },
    {
      "cell_type": "code",
      "execution_count": null,
      "metadata": {
        "id": "IwO_XfNsdRn-"
      },
      "outputs": [],
      "source": [
        "import keras\n",
        "import tensorflow as tf\n",
        "from sklearn.metrics import f1_score\n",
        "from tensorflow.keras import optimizers\n",
        "from tensorflow.keras.models import Sequential\n",
        "from tensorflow.keras.preprocessing.image import ImageDataGenerator\n",
        "from tensorflow.keras.layers import Dense, Flatten, MaxPooling2D, Dropout, Conv2D"
      ]
    },
    {
      "cell_type": "code",
      "execution_count": null,
      "metadata": {
        "colab": {
          "base_uri": "https://localhost:8080/"
        },
        "id": "pNKNiZQbQgvo",
        "outputId": "b0babda1-8a3c-4edc-8d65-3869d346dffc"
      },
      "outputs": [
        {
          "output_type": "stream",
          "name": "stdout",
          "text": [
            "Found 4964 images belonging to 31 classes.\n",
            "Found 906 images belonging to 31 classes.\n"
          ]
        }
      ],
      "source": [
        "import tensorflow.keras.backend as K\n",
        "train_datagen = ImageDataGenerator(rescale=1./255, width_shift_range=0.1, height_shift_range=0.1)\n",
        "path = '/content/drive/MyDrive/Machine_Learning/Data/KyTu'\n",
        "train_generator = train_datagen.flow_from_directory(\n",
        "        path+'/train',\n",
        "        target_size=(28,28),\n",
        "        batch_size=1,\n",
        "        class_mode='sparse')\n",
        "\n",
        "validation_generator = train_datagen.flow_from_directory(\n",
        "        path+'/val',\n",
        "        target_size=(28,28),\n",
        "        class_mode='sparse')"
      ]
    },
    {
      "cell_type": "code",
      "execution_count": null,
      "metadata": {
        "id": "YEWEplUHZSsV"
      },
      "outputs": [],
      "source": [
        "def f1score(y, y_pred):\n",
        "  return f1_score(y, tf.math.argmax(y_pred, axis=1), average='micro')\n",
        "\n",
        "def custom_f1score(y, y_pred):\n",
        "  return tf.py_function(f1score, (y, y_pred), tf.double)"
      ]
    },
    {
      "cell_type": "code",
      "execution_count": null,
      "metadata": {
        "id": "49gcASmlZW-E"
      },
      "outputs": [],
      "source": [
        "K.clear_session()\n",
        "model = Sequential()\n",
        "model.add(Conv2D(16, (22,22), input_shape=(28, 28, 3), activation='relu', padding='same'))\n",
        "model.add(Conv2D(32, (16,16), input_shape=(28, 28, 3), activation='relu', padding='same'))\n",
        "model.add(Conv2D(64, (8,8), input_shape=(28, 28, 3), activation='relu', padding='same'))\n",
        "model.add(Conv2D(64, (4,4), input_shape=(28, 28, 3), activation='relu', padding='same'))\n",
        "model.add(MaxPooling2D(pool_size=(4, 4)))\n",
        "model.add(Dropout(0.4))\n",
        "model.add(Flatten())\n",
        "model.add(Dense(128, activation='relu'))\n",
        "model.add(Dense(31, activation='softmax'))\n",
        "\n",
        "model.compile(loss='sparse_categorical_crossentropy', optimizer=optimizers.Adam(learning_rate=0.0001), metrics=[custom_f1score])"
      ]
    },
    {
      "cell_type": "code",
      "execution_count": null,
      "metadata": {
        "colab": {
          "base_uri": "https://localhost:8080/"
        },
        "id": "ngKcFVN8ZXtM",
        "outputId": "947de379-938a-4c68-da90-cc528ddccbce"
      },
      "outputs": [
        {
          "output_type": "stream",
          "name": "stdout",
          "text": [
            "Model: \"sequential\"\n",
            "_________________________________________________________________\n",
            " Layer (type)                Output Shape              Param #   \n",
            "=================================================================\n",
            " conv2d (Conv2D)             (None, 28, 28, 16)        23248     \n",
            "                                                                 \n",
            " conv2d_1 (Conv2D)           (None, 28, 28, 32)        131104    \n",
            "                                                                 \n",
            " conv2d_2 (Conv2D)           (None, 28, 28, 64)        131136    \n",
            "                                                                 \n",
            " conv2d_3 (Conv2D)           (None, 28, 28, 64)        65600     \n",
            "                                                                 \n",
            " max_pooling2d (MaxPooling2  (None, 7, 7, 64)          0         \n",
            " D)                                                              \n",
            "                                                                 \n",
            " dropout (Dropout)           (None, 7, 7, 64)          0         \n",
            "                                                                 \n",
            " flatten (Flatten)           (None, 3136)              0         \n",
            "                                                                 \n",
            " dense (Dense)               (None, 128)               401536    \n",
            "                                                                 \n",
            " dense_1 (Dense)             (None, 31)                3999      \n",
            "                                                                 \n",
            "=================================================================\n",
            "Total params: 756623 (2.89 MB)\n",
            "Trainable params: 756623 (2.89 MB)\n",
            "Non-trainable params: 0 (0.00 Byte)\n",
            "_________________________________________________________________\n"
          ]
        }
      ],
      "source": [
        "model.summary()"
      ]
    },
    {
      "cell_type": "code",
      "execution_count": null,
      "metadata": {
        "id": "URRsSxB8ZcN5"
      },
      "outputs": [],
      "source": [
        "class stop_training_callback(tf.keras.callbacks.Callback):\n",
        "  def on_epoch_end(self, epoch, logs={}):\n",
        "    if(logs.get('val_custom_f1score') > 0.99):\n",
        "      self.model.stop_training = True"
      ]
    },
    {
      "cell_type": "code",
      "execution_count": null,
      "metadata": {
        "colab": {
          "base_uri": "https://localhost:8080/"
        },
        "id": "8NMZagZuZyJq",
        "outputId": "ffc49d14-0661-4d01-8b78-d346fd84e7bc"
      },
      "outputs": [
        {
          "output_type": "stream",
          "name": "stderr",
          "text": [
            "<ipython-input-9-214927322d25>:3: UserWarning: `Model.fit_generator` is deprecated and will be removed in a future version. Please use `Model.fit`, which supports generators.\n",
            "  model.fit_generator(\n"
          ]
        },
        {
          "output_type": "stream",
          "name": "stdout",
          "text": [
            "Epoch 1/10\n",
            "4964/4964 [==============================] - 1377s 277ms/step - loss: 0.6607 - custom_f1score: 0.8396 - val_loss: 0.3282 - val_custom_f1score: 0.9203\n",
            "Epoch 2/10\n",
            "4964/4964 [==============================] - 525s 106ms/step - loss: 0.2222 - custom_f1score: 0.9434 - val_loss: 0.2425 - val_custom_f1score: 0.9457\n",
            "Epoch 3/10\n",
            "4964/4964 [==============================] - 520s 105ms/step - loss: 0.1722 - custom_f1score: 0.9575 - val_loss: 0.1953 - val_custom_f1score: 0.9580\n",
            "Epoch 4/10\n",
            "4964/4964 [==============================] - 523s 105ms/step - loss: 0.1392 - custom_f1score: 0.9664 - val_loss: 0.1280 - val_custom_f1score: 0.9655\n",
            "Epoch 5/10\n",
            "4964/4964 [==============================] - 525s 106ms/step - loss: 0.1158 - custom_f1score: 0.9702 - val_loss: 0.1130 - val_custom_f1score: 0.9709\n",
            "Epoch 6/10\n",
            "4964/4964 [==============================] - 529s 106ms/step - loss: 0.1075 - custom_f1score: 0.9762 - val_loss: 0.0847 - val_custom_f1score: 0.9806\n",
            "Epoch 7/10\n",
            "4964/4964 [==============================] - 524s 106ms/step - loss: 0.0956 - custom_f1score: 0.9762 - val_loss: 0.1245 - val_custom_f1score: 0.9623\n",
            "Epoch 8/10\n",
            "4964/4964 [==============================] - 525s 106ms/step - loss: 0.0886 - custom_f1score: 0.9770 - val_loss: 0.0801 - val_custom_f1score: 0.9731\n",
            "Epoch 9/10\n",
            "4964/4964 [==============================] - 527s 106ms/step - loss: 0.0763 - custom_f1score: 0.9811 - val_loss: 0.0716 - val_custom_f1score: 0.9795\n",
            "Epoch 10/10\n",
            "4964/4964 [==============================] - 524s 106ms/step - loss: 0.0815 - custom_f1score: 0.9799 - val_loss: 0.1263 - val_custom_f1score: 0.9634\n"
          ]
        },
        {
          "output_type": "execute_result",
          "data": {
            "text/plain": [
              "<keras.src.callbacks.History at 0x7dd77dc3e5f0>"
            ]
          },
          "metadata": {},
          "execution_count": 9
        }
      ],
      "source": [
        "batch_size = 1\n",
        "callbacks = [stop_training_callback()]\n",
        "model.fit_generator(\n",
        "      train_generator,\n",
        "      steps_per_epoch = train_generator.samples // batch_size,\n",
        "      validation_data = validation_generator,\n",
        "      epochs = 10, verbose=1, callbacks=callbacks)"
      ]
    },
    {
      "cell_type": "code",
      "execution_count": null,
      "metadata": {
        "colab": {
          "base_uri": "https://localhost:8080/"
        },
        "id": "oltm3OmlVKzp",
        "outputId": "91a76ac9-9242-4f56-bcd2-def4ec0c4b7f"
      },
      "outputs": [
        {
          "output_type": "stream",
          "name": "stderr",
          "text": [
            "/usr/local/lib/python3.10/dist-packages/keras/src/engine/training.py:3103: UserWarning: You are saving your model as an HDF5 file via `model.save()`. This file format is considered legacy. We recommend using instead the native Keras format, e.g. `model.save('my_model.keras')`.\n",
            "  saving_api.save_model(\n"
          ]
        }
      ],
      "source": [
        "model.save('/content/drive/MyDrive/Machine_Learning/Model_KyTu.h5')"
      ]
    },
    {
      "cell_type": "code",
      "execution_count": null,
      "metadata": {
        "id": "f7RQb7ZkU4J1"
      },
      "outputs": [],
      "source": [
        "model.save('/content/drive/MyDrive/Machine_Learning/Model_KyTu.keras')"
      ]
    }
  ],
  "metadata": {
    "accelerator": "GPU",
    "colab": {
      "provenance": [],
      "gpuType": "T4"
    },
    "kernelspec": {
      "display_name": "Python 3",
      "name": "python3"
    },
    "language_info": {
      "name": "python"
    }
  },
  "nbformat": 4,
  "nbformat_minor": 0
}